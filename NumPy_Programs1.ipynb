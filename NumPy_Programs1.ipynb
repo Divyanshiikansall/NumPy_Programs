{
 "cells": [
  {
   "cell_type": "code",
   "execution_count": 21,
   "id": "d98cfc65-c1fd-4597-8b7f-7d4ef507c55b",
   "metadata": {},
   "outputs": [
    {
     "name": "stdout",
     "output_type": "stream",
     "text": [
      "[1 2 3 4 5]\n",
      "Dimeesion of var1 array: 1 dimeesional\n"
     ]
    }
   ],
   "source": [
    "#Creating NumPy Arrays - simplest method\n",
    "import numpy as np\n",
    "var1 = np.array([1,2,3,4,5])\n",
    "print(var1)\n",
    "print(\"Dimeesion of var1 array:\",var1.ndim,\"dimeesional\")\n"
   ]
  },
  {
   "cell_type": "code",
   "execution_count": 7,
   "id": "e4849f3e-eee8-4d02-a9c5-b44c29093a8e",
   "metadata": {},
   "outputs": [
    {
     "name": "stdin",
     "output_type": "stream",
     "text": [
      "enter total elements in array 6\n",
      "enter: 28\n",
      "enter: 24\n",
      "enter: 4\n",
      "enter: 6\n",
      "enter: 3\n",
      "enter: 24\n"
     ]
    },
    {
     "name": "stdout",
     "output_type": "stream",
     "text": [
      "Array created: [28 24  4  6  3 24]\n"
     ]
    }
   ],
   "source": [
    "#creating NumPy array using for loop\n",
    "l=[]\n",
    "t = int(input(\"enter total elements in array\")) #elements in array\n",
    "for i in range(0,t):\n",
    "    item = int(input(\"enter:\"))\n",
    "    l.append(item)\n",
    "var2 = np.array(l)\n",
    "print(\"Array created:\" , var2)\n"
   ]
  },
  {
   "cell_type": "code",
   "execution_count": 19,
   "id": "633d80e5-215c-4219-97cb-4242bbe1f3fa",
   "metadata": {},
   "outputs": [
    {
     "name": "stdout",
     "output_type": "stream",
     "text": [
      "[[[[1 2 3 4]\n",
      "   [2 4 5 6]\n",
      "   [7 8 3 9]]]]\n",
      "Dimession of mul_var: 4\n"
     ]
    }
   ],
   "source": [
    "#creating multi-dimenssional array\n",
    "mul_var =np.array([[[[1,2,3,4],[2,4,5,6],[7,8,3,9]]]])\n",
    "print(mul_var)\n",
    "print(\"Dimession of mul_var:\",mul_var.ndim)\n"
   ]
  },
  {
   "cell_type": "code",
   "execution_count": 45,
   "id": "2cb468cf-36f6-41cb-90d0-3959919f30a1",
   "metadata": {},
   "outputs": [
    {
     "name": "stdout",
     "output_type": "stream",
     "text": [
      "Zero Array: [[0. 0. 0. 0. 0.]\n",
      " [0. 0. 0. 0. 0.]\n",
      " [0. 0. 0. 0. 0.]]\n",
      "One Array: [1. 1. 1. 1.]\n",
      "Empty Array: [5.89000796e-245 1.83277370e+208]\n"
     ]
    }
   ],
   "source": [
    "#creating zeroArray ,onesArray , emptyArray\n",
    "var3 = np.zeros((3,5))\n",
    "print(\"Zero Array:\",var3)\n",
    "var4 = np.ones(4)\n",
    "print(\"One Array:\",var4)\n",
    "var5 = np.empty(2) #takes garbage value\n",
    "print(\"Empty Array:\",var5)"
   ]
  },
  {
   "cell_type": "code",
   "execution_count": 63,
   "id": "70ff83b9-f0d3-4b36-ba02-af67a478f0c2",
   "metadata": {},
   "outputs": [
    {
     "name": "stdout",
     "output_type": "stream",
     "text": [
      "[0 1 2 3 4 5 6 7 8 9]\n"
     ]
    }
   ],
   "source": [
    "#using arange function\n",
    "avar = np.arange(10)\n",
    "print(avar)"
   ]
  },
  {
   "cell_type": "code",
   "execution_count": 71,
   "id": "51eaa597-d3a8-4b84-a677-0d827d0c3f18",
   "metadata": {},
   "outputs": [
    {
     "name": "stdout",
     "output_type": "stream",
     "text": [
      "square matrix needs only 1 parameter: [[1. 0. 0. 0. 0.]\n",
      " [0. 1. 0. 0. 0.]\n",
      " [0. 0. 1. 0. 0.]\n",
      " [0. 0. 0. 1. 0.]\n",
      " [0. 0. 0. 0. 1.]]\n",
      "2\n",
      "[[1. 0. 0. 0. 0. 0. 0.]\n",
      " [0. 1. 0. 0. 0. 0. 0.]]\n"
     ]
    }
   ],
   "source": [
    "#filling Diagonal elements with 1(s)\n",
    "var_diag = np.eye(5)\n",
    "print(\"square matrix needs only 1 parameter:\",var_diag)\n",
    "print(var_diag.ndim)\n",
    "var_diag1 = np.eye(2,7)\n",
    "print(var_diag1)"
   ]
  },
  {
   "cell_type": "code",
   "execution_count": 85,
   "id": "0bebe9c9-c761-4f20-a8c3-dd64a80ac67f",
   "metadata": {},
   "outputs": [
    {
     "name": "stdout",
     "output_type": "stream",
     "text": [
      "Array using rand() function: [0.61610689 0.21646157 0.30206839 0.16792629 0.56606345]\n",
      "Array using randn() function: [-0.05864926  1.29090321 -0.2923671 ]\n",
      "Array using ranf() function: [0.43772661 0.57548792 0.40380833 0.99540217]\n",
      "Array using randint() function: [27 28 24 23 22 24]\n"
     ]
    }
   ],
   "source": [
    "#using random module in NumPy\n",
    "#1.rand function\n",
    "rvar = np.random.rand(5)\n",
    "print(\"Array using rand() function:\",rvar)\n",
    "#2.randn function\n",
    "rvar1 = np.random.randn(3)\n",
    "print(\"Array using randn() function:\",rvar1)\n",
    "#3.ranf function\n",
    "rvar2 = np.random.ranf(4)\n",
    "print(\"Array using ranf() function:\",rvar2)\n",
    "#4.randint function\n",
    "rvar3 = np.random.randint(21,29,6)\n",
    "print(\"Array using randint() function:\",rvar3)\n"
   ]
  },
  {
   "cell_type": "code",
   "execution_count": 111,
   "id": "753ab0f0-00b4-4edd-ab26-9238890911dd",
   "metadata": {},
   "outputs": [
    {
     "name": "stdout",
     "output_type": "stream",
     "text": [
      "float64\n",
      "string array: ['div' 'riyu' 'harshit']\n",
      "<U7\n",
      "[21 24 28  4  3] \n",
      "Datatype of d_var1: int16\n",
      "[21. 24. 28.  4.  3.]\n",
      "float16\n",
      "int16\n"
     ]
    }
   ],
   "source": [
    "#datatype in NumPy\n",
    "d_var = np.arange(5.0)\n",
    "print(d_var.dtype)\n",
    "\n",
    "s_var = np.array([\"div\", \"riyu\" ,\"harshit\"])\n",
    "print(\"string array:\",s_var)\n",
    "print(s_var.dtype)\n",
    "\n",
    "#changing datatype of array\n",
    "#method1\n",
    "d_var1 = np.array([21,24,28,4,3], np.int16)\n",
    "print(d_var1,\"\\nDatatype of d_var1:\",d_var1.dtype)\n",
    "#method2\n",
    "new = np.float16(d_var1)\n",
    "print(new)\n",
    "print(new.dtype)\n",
    "print(d_var1.dtype) #datatype of d_var1 does not change , \"new\" named array is created\n",
    "\n"
   ]
  },
  {
   "cell_type": "code",
   "execution_count": null,
   "id": "b96c159e-a974-49c8-8603-dae85045be76",
   "metadata": {},
   "outputs": [],
   "source": []
  }
 ],
 "metadata": {
  "kernelspec": {
   "display_name": "Python 3 (ipykernel)",
   "language": "python",
   "name": "python3"
  },
  "language_info": {
   "codemirror_mode": {
    "name": "ipython",
    "version": 3
   },
   "file_extension": ".py",
   "mimetype": "text/x-python",
   "name": "python",
   "nbconvert_exporter": "python",
   "pygments_lexer": "ipython3",
   "version": "3.12.4"
  }
 },
 "nbformat": 4,
 "nbformat_minor": 5
}
