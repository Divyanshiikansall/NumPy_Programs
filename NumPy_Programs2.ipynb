{
 "cells": [
  {
   "cell_type": "code",
   "execution_count": 5,
   "id": "eab5bde7-c044-4d3c-a2b1-d9e7ee70133b",
   "metadata": {},
   "outputs": [
    {
     "name": "stdout",
     "output_type": "stream",
     "text": [
      "Addition of two arrays: [24 28 34]\n",
      "Subtraction of two arrays: [18 20 22]\n",
      "Multiplication of two arrays: [ 63  96 168]\n",
      "Divison of two arrays: [7.         6.         4.66666667]\n",
      "Modulas of two arrays: [0 0 4]\n",
      "Power of two arrays: [     9261    331776 481890304]\n",
      "Reciprocal of the array: [0 0 0]\n"
     ]
    }
   ],
   "source": [
    "#NumPy Arithematic operation \n",
    "import numpy as np\n",
    "array_1 = np.array([21,24,28])\n",
    "array_2 = np.array([3,4,6])\n",
    "print(\"Addition of two arrays:\",np.add(array_1,array_2))\n",
    "print(\"Subtraction of two arrays:\",np.subtract(array_1,array_2))\n",
    "print(\"Multiplication of two arrays:\",np.multiply(array_1,array_2))\n",
    "print(\"Divison of two arrays:\",np.divide(array_1,array_2))\n",
    "print(\"Modulas of two arrays:\",np.mod(array_1,array_2))\n",
    "print(\"Power of two arrays:\",np.power(array_1,array_2))\n",
    "print(\"Reciprocal of the array:\",np.reciprocal(array_1))\n"
   ]
  },
  {
   "cell_type": "code",
   "execution_count": 9,
   "id": "7336eaeb-7563-4300-be79-ae7366a2658d",
   "metadata": {},
   "outputs": [
    {
     "name": "stdout",
     "output_type": "stream",
     "text": [
      "Minimum value in array: 3\n",
      "Maximum value in array: 28\n",
      "Minimum value index in array: 3\n",
      "Maximum value index in array: 2\n",
      "Cummulative sum of array: [1 3 6]\n",
      "Square root of array: [4.58257569 4.89897949 5.29150262 1.73205081 2.         2.44948974]\n",
      "Sin of array: [ 0.83665564 -0.90557836  0.27090579  0.14112001 -0.7568025  -0.2794155 ]\n",
      "Cos of array: [-0.54772926  0.42417901 -0.96260587 -0.9899925  -0.65364362  0.96017029]\n"
     ]
    }
   ],
   "source": [
    "#NumPy Arithematic Function\n",
    "array_3 = np.array([21,24,28,3,4,6])\n",
    "print(\"Minimum value in array:\",np.min(array_3))\n",
    "print(\"Maximum value in array:\",np.max(array_3))\n",
    "print(\"Minimum value index in array:\",np.argmin(array_3))\n",
    "print(\"Maximum value index in array:\",np.argmax(array_3))\n",
    "print(\"Cummulative sum of array:\",np.cumsum([1, 2, 3]))\n",
    "print(\"Square root of array:\",np.sqrt(array_3))\n",
    "print(\"Sin of array:\",np.sin(array_3))\n",
    "print(\"Cos of array:\",np.cos(array_3))\n"
   ]
  },
  {
   "cell_type": "code",
   "execution_count": 11,
   "id": "6fea6302-1567-44bd-a742-85d7dbc7708d",
   "metadata": {},
   "outputs": [
    {
     "name": "stdout",
     "output_type": "stream",
     "text": [
      "Minimum value in array: [4 3 6]\n",
      "Minimum value in array: [21  3]\n"
     ]
    }
   ],
   "source": [
    "#operating on 2d array\n",
    "array_2d = np.array([[21,24,28],[4,3,6]])\n",
    "print(\"Minimum value in array:\",np.min(array_2d,axis=0))\n",
    "print(\"Minimum value in array:\",np.min(array_2d,axis=1))\n"
   ]
  },
  {
   "cell_type": "code",
   "execution_count": 19,
   "id": "f97761e9-c2f7-498a-967d-9dc708ae72ee",
   "metadata": {},
   "outputs": [
    {
     "name": "stdout",
     "output_type": "stream",
     "text": [
      "(6,)\n",
      "(2, 3)\n",
      "[[21 24]\n",
      " [28  3]\n",
      " [ 4  6]]\n",
      "[21 24 28  3  4  6]\n"
     ]
    }
   ],
   "source": [
    "#Shaping and Reshaping in NumPy\n",
    "#1D array\n",
    "array_4 = np.array([21,24,28,3,4,6])\n",
    "print(array_4.shape)\n",
    "#2D array\n",
    "array_2d =  np.array([[21,24,28],[4,3,6]])\n",
    "print(array_2d.shape)\n",
    "\n",
    "new = array_4.reshape(3,2)\n",
    "print(new)\n",
    "\n",
    "print(new.reshape(-1))\n"
   ]
  },
  {
   "cell_type": "code",
   "execution_count": 21,
   "id": "64006f5e-72c1-4819-8b7d-11f8d0c7aab5",
   "metadata": {},
   "outputs": [
    {
     "name": "stdout",
     "output_type": "stream",
     "text": [
      "Addition of two different dimenssion aaray: [[2 3 4]\n",
      " [3 4 5]\n",
      " [4 5 6]]\n"
     ]
    }
   ],
   "source": [
    "#broadcasting In NumPy\n",
    "array_1 = np.array([[1,2,3]])\n",
    "array_2 = np.array([[1],[2],[3]])\n",
    "print(\"Addition of two different dimenssion aaray:\",np.add(array_1,array_2))"
   ]
  },
  {
   "cell_type": "code",
   "execution_count": 23,
   "id": "45406e1a-2a1f-4559-94a9-5e24245ab7b9",
   "metadata": {},
   "outputs": [
    {
     "name": "stdout",
     "output_type": "stream",
     "text": [
      "Iterating using nditer function:\n",
      "21\n",
      "24\n",
      "28\n",
      "4\n",
      "6\n",
      "3\n",
      "Iterating using ndenumerate function:\n",
      "(0, 0) 21\n",
      "(0, 1) 24\n",
      "(0, 2) 28\n",
      "(1, 0) 4\n",
      "(1, 1) 6\n",
      "(1, 2) 3\n"
     ]
    }
   ],
   "source": [
    "#Iterating NumPy array\n",
    "array_2d = np.array([[21,24,28],[4,6,3]])\n",
    "#nditer function\n",
    "print(\"Iterating using nditer function:\")\n",
    "for i in np.nditer(array_2d):\n",
    "    print(i)\n",
    "#ndenumerate function\n",
    "print(\"Iterating using ndenumerate function:\")\n",
    "for j,d in np.ndenumerate(array_2d):\n",
    "    print(j,d)\n"
   ]
  },
  {
   "cell_type": "code",
   "execution_count": null,
   "id": "292e22bb-efba-42f4-8638-dab7634cbe04",
   "metadata": {},
   "outputs": [],
   "source": []
  }
 ],
 "metadata": {
  "kernelspec": {
   "display_name": "Python 3 (ipykernel)",
   "language": "python",
   "name": "python3"
  },
  "language_info": {
   "codemirror_mode": {
    "name": "ipython",
    "version": 3
   },
   "file_extension": ".py",
   "mimetype": "text/x-python",
   "name": "python",
   "nbconvert_exporter": "python",
   "pygments_lexer": "ipython3",
   "version": "3.12.4"
  }
 },
 "nbformat": 4,
 "nbformat_minor": 5
}
