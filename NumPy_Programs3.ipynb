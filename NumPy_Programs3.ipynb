{
 "cells": [
  {
   "cell_type": "code",
   "execution_count": 7,
   "id": "49e3250a-7440-4842-b2cc-2c0b3ab8466f",
   "metadata": {},
   "outputs": [
    {
     "name": "stdout",
     "output_type": "stream",
     "text": [
      "arr1: [21 24 28  4  6  3]\n",
      "arr2: [1 2 3 4 5 6]\n",
      "co: [21 24 28  4  6  3]\n",
      "vi: [1 2 3 4 5 6]\n",
      "making changes in orignal array:\n",
      "new arr1 : [21 24  9  4  6  3]\n",
      "new co: [21 24 28  4  6  3]\n",
      "new arr2 : [1 2 9 4 5 6]\n",
      "new vi: [1 2 9 4 5 6]\n",
      "making changes copy and view of array:\n",
      "new arr1-1 : [21 24  9  4  6  3]\n",
      "new co 1: [ 0 24 28  4  6  3]\n",
      "new arr2-1 : [0 2 9 4 5 6]\n",
      "new vi 1: [0 2 9 4 5 6]\n"
     ]
    }
   ],
   "source": [
    "#Copy and view in numpy\n",
    "import numpy as np\n",
    "arr1 = np.array([21,24,28,4,6,3])\n",
    "print(\"arr1:\",arr1)\n",
    "arr2 = np.array([1,2,3,4,5,6])\n",
    "print(\"arr2:\",arr2)\n",
    "co = arr1.copy()\n",
    "print(\"co:\",co)\n",
    "vi = arr2.view()\n",
    "print(\"vi:\",vi)\n",
    "#making changes in orignal array\n",
    "print(\"making changes in orignal array:\")\n",
    "arr1[2] = 9\n",
    "print(\"new arr1 :\",arr1)\n",
    "print(\"new co:\",co)\n",
    "arr2[2]=9\n",
    "print(\"new arr2 :\",arr2)\n",
    "print(\"new vi:\",vi)\n",
    "#making changes in copy and view of array\n",
    "print(\"making changes copy and view of array:\")\n",
    "co[0]=0\n",
    "print(\"new arr1-1 :\",arr1)\n",
    "print(\"new co 1:\",co)\n",
    "vi[0]=0\n",
    "print(\"new arr2-1 :\",arr2)\n",
    "print(\"new vi 1:\",vi)\n",
    "\n",
    "\n",
    "\n"
   ]
  },
  {
   "cell_type": "code",
   "execution_count": 17,
   "id": "11457348-78e7-47b2-81aa-d5dd089e5144",
   "metadata": {},
   "outputs": [
    {
     "name": "stdout",
     "output_type": "stream",
     "text": [
      "concatenating array 1 and array 2 using concatenate: [ 1  2  3  4  5  6 21  3  4 28 24  6]\n",
      "concatenating array 1 and array 2 using stack: [[ 1 21]\n",
      " [ 2  3]\n",
      " [ 3  4]\n",
      " [ 4 28]\n",
      " [ 5 24]\n",
      " [ 6  6]]\n",
      "splitting array_1 : [array([1, 2]), array([3, 4]), array([5]), array([6])]\n"
     ]
    }
   ],
   "source": [
    "#join and split in 1d array\n",
    "array_1 = np.array([1,2,3,4,5,6])\n",
    "array_2 = np.array([21,3,4,28,24,6])\n",
    "#concatenate\n",
    "print(\"concatenating array 1 and array 2 using concatenate:\",np.concatenate((array_1,array_2)))\n",
    "#stack\n",
    "print(\"concatenating array 1 and array 2 using stack:\",np.stack((array_1,array_2),axis=1)) #dstack : merging based on height\n",
    "#split\n",
    "print(\"splitting array_1 :\", np.array_split(array_1,4))"
   ]
  },
  {
   "cell_type": "code",
   "execution_count": 35,
   "id": "42881e43-ac2f-4009-8ee1-59d470e84cc2",
   "metadata": {},
   "outputs": [
    {
     "name": "stdout",
     "output_type": "stream",
     "text": [
      "concatenating array 1 and array 2 using concatenate: [[ 1  2  3 21 24 28]\n",
      " [ 4  5  6  4  3  6]]\n",
      "concatenating array 1 and array 2 using stack: [[[ 1  2  3]\n",
      "  [21 24 28]]\n",
      "\n",
      " [[ 4  5  6]\n",
      "  [ 4  3  6]]]\n",
      "splitting array_1 : [array([[1, 2, 3]]), array([[4, 5, 6]])]\n"
     ]
    }
   ],
   "source": [
    "#join and split in 2d array\n",
    "array_2d1 = np.array([[1,2,3],[4,5,6]])\n",
    "array_2d2 = np.array([[21,24,28],[4,3,6]])\n",
    "#concatenate\n",
    "print(\"concatenating array 1 and array 2 using concatenate:\",np.concatenate((array_2d1,array_2d2),axis =1)) #along row\n",
    "#stack\n",
    "print(\"concatenating array 1 and array 2 using stack:\",np.stack((array_2d1,array_2d2),axis=1)) #dstack : merging based on height\n",
    "#split\n",
    "print(\"splitting array_1 :\", np.array_split(array_2d1,2))\n",
    "\n",
    "\n"
   ]
  },
  {
   "cell_type": "code",
   "execution_count": 81,
   "id": "083ea9d7-9b57-4580-bbca-4dccea3e0423",
   "metadata": {},
   "outputs": [
    {
     "name": "stdout",
     "output_type": "stream",
     "text": [
      "using where function: (array([1, 2, 3, 5], dtype=int64),)\n",
      "using searchsort function: 2\n",
      "using sort function: [ 3  4  6 21 24 28]\n",
      "using filter function: [21 24 28]\n",
      "using shuffle function: [8 1 4 5 7 6 3]\n",
      "using unique function: (array([ 3,  4,  6, 21, 24, 28]), array([4, 1, 5, 0, 2, 3], dtype=int64), array([1, 1, 1, 1, 1, 1], dtype=int64))\n",
      "using resize function: [[21  4]\n",
      " [24 28]\n",
      " [ 3  6]]\n",
      "using flatten function: [1 4 2 5 3 6]\n",
      "using ravel function: [1 2 3 4 5 6]\n"
     ]
    }
   ],
   "source": [
    "import random\n",
    "#functions in NumPy array\n",
    "#search function\n",
    "fun_arr = np.array([21,4,24,28,3,6])\n",
    "x1=np.where(fun_arr%2==0)\n",
    "print(\"using where function:\",x1)\n",
    "#searchsort\n",
    "x2 = np.searchsorted(fun_arr,24)\n",
    "print(\"using searchsort function:\",x2)\n",
    "#sort\n",
    "x3 = np.sort(fun_arr)\n",
    "print(\"using sort function:\",x3)\n",
    "#filter\n",
    "x4 = [True,False,True,True,False,False]\n",
    "filter_array = fun_arr[x4]\n",
    "print(\"using filter function:\",filter_array)\n",
    "#shuffle\n",
    "random_arr = np.array([1,7,3,4,8,6,5])\n",
    "np.random.shuffle(random_arr)\n",
    "print(\"using shuffle function:\",random_arr)\n",
    "#unique\n",
    "x5=np.unique(fun_arr,return_index=True,return_counts=True)\n",
    "print(\"using unique function:\",x5)\n",
    "#resize\n",
    "x6 = np.resize(fun_arr,(3,2))\n",
    "print(\"using resize function:\",x6)\n",
    "#flatten and ravel\n",
    "fun_arr2d = np.array([[1,2,3],[4,5,6]])\n",
    "x7 = fun_arr2d.flatten(order=\"F\") #fortran style:column major\n",
    "print(\"using flatten function:\",x7)\n",
    "x8=np.ravel(fun_arr2d,order=\"K\")\n",
    "print(\"using ravel function:\",x8)\n",
    "\n",
    "\n"
   ]
  },
  {
   "cell_type": "code",
   "execution_count": 123,
   "id": "2250a19f-075f-4bdb-9b6c-5fec67fbaf19",
   "metadata": {},
   "outputs": [
    {
     "name": "stdout",
     "output_type": "stream",
     "text": [
      "1d array: [1 2 3 4 5 6]\n",
      "2d array: [[1 2 3]\n",
      " [4 5 6]]\n",
      "new array x1 using var1: [28  1  2  3  4 28  5  6]\n",
      "printing var1 after insert function: [1 2 3 4 5 6]\n",
      "[[24  1 28  2  3]\n",
      " [24  4 28  5  6]]\n",
      "using append function: [1.  2.  3.  4.  5.  6.  6.5]\n",
      "using delete function on var1: [1 2 4 5 6]\n",
      "using delete function on var1_2d: [[2]\n",
      " [5]]\n"
     ]
    }
   ],
   "source": [
    "#insert and delete in NumPy\n",
    "var1 = np.array([1,2,3,4,5,6])\n",
    "var1_2d = np.array([[1,2,3],[4,5,6]])\n",
    "print(\"1d array:\",var1)\n",
    "print(\"2d array:\",var1_2d)\n",
    "x1=np.insert(var1,(0,4),28) #new array is created no change in var1\n",
    "print(\"new array x1 using var1:\",x1)\n",
    "print(\"printing var1 after insert function:\",var1)\n",
    "x2 = np.insert(var1_2d,(0,1),(24,28),axis=1)\n",
    "print(x2)\n",
    "x3=np.append(var1,6.5)\n",
    "print(\"using append function:\",x3)\n",
    "x4=np.delete(var1,2)\n",
    "print(\"using delete function on var1:\",x4)\n",
    "x5=np.delete(var1_2d,(0,2),axis=1)\n",
    "print(\"using delete function on var1_2d:\",x5)\n"
   ]
  },
  {
   "cell_type": "code",
   "execution_count": 145,
   "id": "2bd5bf7e-408d-40d4-b0bf-d0c57ba0f515",
   "metadata": {},
   "outputs": [
    {
     "name": "stdout",
     "output_type": "stream",
     "text": [
      "matrix1: [[1 2 3]\n",
      " [4 5 6]\n",
      " [7 8 9]]\n",
      "matrix2: [[21  4  3]\n",
      " [28 24  6]\n",
      " [47 14  9]]\n",
      "addition of matrix: [[22  6  6]\n",
      " [32 29 12]\n",
      " [54 22 18]]\n",
      "multiplication of matrix: [[218  94  42]\n",
      " [506 220  96]\n",
      " [794 346 150]]\n",
      "using transpose function on mat1: [[1 4 7]\n",
      " [2 5 8]\n",
      " [3 6 9]]\n",
      "transposing mat2 using second method: [[21 28 47]\n",
      " [ 4 24 14]\n",
      " [ 3  6  9]]\n",
      "using swapaxes on mat1: [[1 4 7]\n",
      " [2 5 8]\n",
      " [3 6 9]]\n",
      "finding determinant: -2.0000000000000004\n",
      "using inverse function: [[-2.   1. ]\n",
      " [ 1.5 -0.5]]\n",
      "finding power: [[ 7 10]\n",
      " [15 22]]\n"
     ]
    }
   ],
   "source": [
    "#matrix function\n",
    "mat1=np.matrix([[1,2,3],[4,5,6],[7,8,9]])\n",
    "mat2=np.matrix([[21,4,3],[28,24,6],[47,14,9]])\n",
    "mat3 = np.matrix([[1,2],[3,4]])\n",
    "print(\"matrix1:\",mat1)\n",
    "print(\"matrix2:\",mat2)\n",
    "print(\"addition of matrix:\",np.add(mat1,mat2))\n",
    "mul_mat=mat1.dot(mat2)\n",
    "print(\"multiplication of matrix:\",mul_mat)\n",
    "#matrix functions\n",
    "#transpose and swapaxes\n",
    "print(\"using transpose function on mat1:\",np.transpose(mat1))\n",
    "print(\"transposing mat2 using second method:\",mat2.T)\n",
    "print(\"using swapaxes on mat1:\",np.swapaxes(mat1,0,1))\n",
    "#determinant\n",
    "print(\"finding determinant:\",np.linalg.det(mat3))\n",
    "#inverse\n",
    "print(\"using inverse function:\",np.linalg.inv(mat3))\n",
    "#power\n",
    "print(\"finding power:\",np.linalg.matrix_power(mat3,n=2))\n"
   ]
  },
  {
   "cell_type": "code",
   "execution_count": null,
   "id": "618fcbc0-f0a1-4563-95a7-a3ac404f1193",
   "metadata": {},
   "outputs": [],
   "source": []
  }
 ],
 "metadata": {
  "kernelspec": {
   "display_name": "Python 3 (ipykernel)",
   "language": "python",
   "name": "python3"
  },
  "language_info": {
   "codemirror_mode": {
    "name": "ipython",
    "version": 3
   },
   "file_extension": ".py",
   "mimetype": "text/x-python",
   "name": "python",
   "nbconvert_exporter": "python",
   "pygments_lexer": "ipython3",
   "version": "3.12.4"
  }
 },
 "nbformat": 4,
 "nbformat_minor": 5
}
